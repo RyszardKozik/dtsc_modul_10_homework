{
 "cells": [
  {
   "cell_type": "code",
   "execution_count": 151,
   "metadata": {},
   "outputs": [],
   "source": [
    "# CNN model \n",
    "import tensorflow as tf\n",
    "from tensorflow.keras.models import Sequential\n",
    "from tensorflow.keras.layers import Conv2D, MaxPooling2D, Flatten, Dense, Dropout, BatchNormalization\n",
    "from tensorflow.keras.optimizers import Adam\n",
    "from tensorflow.keras.regularizers import l2\n",
    "from tensorflow.keras.callbacks import EarlyStopping, ReduceLROnPlateau\n",
    "from tensorflow.keras.datasets import fashion_mnist\n",
    "from tensorflow.keras.utils import to_categorical\n",
    "import matplotlib.pyplot as plt\n"
   ]
  },
  {
   "cell_type": "code",
   "execution_count": 152,
   "metadata": {},
   "outputs": [
    {
     "name": "stdout",
     "output_type": "stream",
     "text": [
      "(60000, 28, 28, 1)\n",
      "(60000, 10)\n",
      "(10000, 28, 28, 1)\n",
      "(10000, 10)\n"
     ]
    }
   ],
   "source": [
    "# Load dataset\n",
    "(train_images, train_labels), (test_images, test_labels) = fashion_mnist.load_data()\n",
    "\n",
    "# Normalize the data to [0, 1]\n",
    "train_images = train_images / 255.0\n",
    "test_images = test_images / 255.0\n",
    "\n",
    "# Add a channel dimension (grayscale)\n",
    "train_images = train_images.reshape(-1, 28, 28, 1)\n",
    "test_images = test_images.reshape(-1, 28, 28, 1)\n",
    "\n",
    "# One-hot encode the labels\n",
    "train_labels = to_categorical(train_labels)\n",
    "test_labels = to_categorical(test_labels)\n",
    "\n",
    "# Check the shapes to confirm correctness\n",
    "print(train_images.shape)  # Should be (60000, 28, 28, 1)\n",
    "print(train_labels.shape)  # Should be (60000, 10)\n",
    "print(test_images.shape)   # Should be (10000, 28, 28, 1)\n",
    "print(test_labels.shape)   # Should be (10000, 10)\n"
   ]
  },
  {
   "cell_type": "code",
   "execution_count": 153,
   "metadata": {},
   "outputs": [],
   "source": [
    "# Create the \n",
    "def create_better_cnn_model():\n",
    "    model = Sequential()\n",
    "\n",
    "    # First convolutional layer\n",
    "    model.add(Conv2D(64, (3, 3), activation='relu', input_shape=(28, 28, 1)))\n",
    "    model.add(BatchNormalization())\n",
    "    model.add(MaxPooling2D((2, 2)))\n",
    "\n",
    "    # Second convolutional layer\n",
    "    model.add(Conv2D(128, (3, 3), activation='relu'))\n",
    "    model.add(BatchNormalization())\n",
    "    model.add(MaxPooling2D((2, 2)))\n",
    "\n",
    "    # Third convolutional layer\n",
    "    model.add(Conv2D(256, (3, 3), activation='relu'))\n",
    "    model.add(BatchNormalization())\n",
    "    model.add(MaxPooling2D((2, 2)))\n",
    "\n",
    "    # Flatten and fully connected layers\n",
    "    model.add(Flatten())\n",
    "    model.add(Dense(512, activation='relu', kernel_regularizer=l2(0.001)))\n",
    "    model.add(Dropout(0.5))\n",
    "\n",
    "    model.add(Dense(128, activation='relu', kernel_regularizer=l2(0.001)))\n",
    "    model.add(Dropout(0.4))\n",
    "\n",
    "    # Output layer with 10 classes\n",
    "    model.add(Dense(10, activation='softmax'))\n",
    "\n",
    "    # Compile the model\n",
    "    model.compile(optimizer=Adam(learning_rate=1e-4), \n",
    "                  loss='categorical_crossentropy',\n",
    "                  metrics=['accuracy'])\n",
    "\n",
    "    return model\n"
   ]
  },
  {
   "cell_type": "code",
   "execution_count": 154,
   "metadata": {},
   "outputs": [],
   "source": [
    "# Callbacks: Early Stopping and ReduceLROnPlateau\n",
    "early_stopping = EarlyStopping(monitor='val_loss', patience=5, restore_best_weights=True)\n",
    "reduce_lr = ReduceLROnPlateau(monitor='val_loss', factor=0.5, patience=3, verbose=1)\n"
   ]
  },
  {
   "cell_type": "code",
   "execution_count": 155,
   "metadata": {},
   "outputs": [
    {
     "name": "stdout",
     "output_type": "stream",
     "text": [
      "Epoch 1/30\n",
      "\u001b[1m938/938\u001b[0m \u001b[32m━━━━━━━━━━━━━━━━━━━━\u001b[0m\u001b[37m\u001b[0m \u001b[1m79s\u001b[0m 80ms/step - accuracy: 0.6100 - loss: 1.7046 - val_accuracy: 0.8322 - val_loss: 0.9729 - learning_rate: 1.0000e-04\n",
      "Epoch 2/30\n",
      "\u001b[1m938/938\u001b[0m \u001b[32m━━━━━━━━━━━━━━━━━━━━\u001b[0m\u001b[37m\u001b[0m \u001b[1m72s\u001b[0m 77ms/step - accuracy: 0.8221 - loss: 1.0082 - val_accuracy: 0.8542 - val_loss: 0.8688 - learning_rate: 1.0000e-04\n",
      "Epoch 3/30\n",
      "\u001b[1m938/938\u001b[0m \u001b[32m━━━━━━━━━━━━━━━━━━━━\u001b[0m\u001b[37m\u001b[0m \u001b[1m76s\u001b[0m 80ms/step - accuracy: 0.8564 - loss: 0.8644 - val_accuracy: 0.8728 - val_loss: 0.7781 - learning_rate: 1.0000e-04\n",
      "Epoch 4/30\n",
      "\u001b[1m938/938\u001b[0m \u001b[32m━━━━━━━━━━━━━━━━━━━━\u001b[0m\u001b[37m\u001b[0m \u001b[1m72s\u001b[0m 77ms/step - accuracy: 0.8760 - loss: 0.7654 - val_accuracy: 0.8757 - val_loss: 0.7173 - learning_rate: 1.0000e-04\n",
      "Epoch 5/30\n",
      "\u001b[1m938/938\u001b[0m \u001b[32m━━━━━━━━━━━━━━━━━━━━\u001b[0m\u001b[37m\u001b[0m \u001b[1m74s\u001b[0m 79ms/step - accuracy: 0.8885 - loss: 0.6816 - val_accuracy: 0.8740 - val_loss: 0.6816 - learning_rate: 1.0000e-04\n",
      "Epoch 6/30\n",
      "\u001b[1m938/938\u001b[0m \u001b[32m━━━━━━━━━━━━━━━━━━━━\u001b[0m\u001b[37m\u001b[0m \u001b[1m73s\u001b[0m 78ms/step - accuracy: 0.9015 - loss: 0.6031 - val_accuracy: 0.8901 - val_loss: 0.6059 - learning_rate: 1.0000e-04\n",
      "Epoch 7/30\n",
      "\u001b[1m938/938\u001b[0m \u001b[32m━━━━━━━━━━━━━━━━━━━━\u001b[0m\u001b[37m\u001b[0m \u001b[1m73s\u001b[0m 78ms/step - accuracy: 0.9100 - loss: 0.5386 - val_accuracy: 0.8916 - val_loss: 0.5658 - learning_rate: 1.0000e-04\n",
      "Epoch 8/30\n",
      "\u001b[1m938/938\u001b[0m \u001b[32m━━━━━━━━━━━━━━━━━━━━\u001b[0m\u001b[37m\u001b[0m \u001b[1m73s\u001b[0m 78ms/step - accuracy: 0.9185 - loss: 0.4804 - val_accuracy: 0.8916 - val_loss: 0.5404 - learning_rate: 1.0000e-04\n",
      "Epoch 9/30\n",
      "\u001b[1m938/938\u001b[0m \u001b[32m━━━━━━━━━━━━━━━━━━━━\u001b[0m\u001b[37m\u001b[0m \u001b[1m74s\u001b[0m 78ms/step - accuracy: 0.9266 - loss: 0.4266 - val_accuracy: 0.8902 - val_loss: 0.5203 - learning_rate: 1.0000e-04\n",
      "Epoch 10/30\n",
      "\u001b[1m938/938\u001b[0m \u001b[32m━━━━━━━━━━━━━━━━━━━━\u001b[0m\u001b[37m\u001b[0m \u001b[1m73s\u001b[0m 78ms/step - accuracy: 0.9367 - loss: 0.3772 - val_accuracy: 0.8914 - val_loss: 0.5042 - learning_rate: 1.0000e-04\n",
      "Epoch 11/30\n",
      "\u001b[1m938/938\u001b[0m \u001b[32m━━━━━━━━━━━━━━━━━━━━\u001b[0m\u001b[37m\u001b[0m \u001b[1m74s\u001b[0m 79ms/step - accuracy: 0.9411 - loss: 0.3373 - val_accuracy: 0.8931 - val_loss: 0.4946 - learning_rate: 1.0000e-04\n",
      "Epoch 12/30\n",
      "\u001b[1m938/938\u001b[0m \u001b[32m━━━━━━━━━━━━━━━━━━━━\u001b[0m\u001b[37m\u001b[0m \u001b[1m82s\u001b[0m 79ms/step - accuracy: 0.9466 - loss: 0.2998 - val_accuracy: 0.8996 - val_loss: 0.4565 - learning_rate: 1.0000e-04\n",
      "Epoch 13/30\n",
      "\u001b[1m938/938\u001b[0m \u001b[32m━━━━━━━━━━━━━━━━━━━━\u001b[0m\u001b[37m\u001b[0m \u001b[1m75s\u001b[0m 80ms/step - accuracy: 0.9542 - loss: 0.2652 - val_accuracy: 0.8932 - val_loss: 0.4643 - learning_rate: 1.0000e-04\n",
      "Epoch 14/30\n",
      "\u001b[1m938/938\u001b[0m \u001b[32m━━━━━━━━━━━━━━━━━━━━\u001b[0m\u001b[37m\u001b[0m \u001b[1m76s\u001b[0m 81ms/step - accuracy: 0.9593 - loss: 0.2361 - val_accuracy: 0.8975 - val_loss: 0.4574 - learning_rate: 1.0000e-04\n",
      "Epoch 15/30\n",
      "\u001b[1m937/938\u001b[0m \u001b[32m━━━━━━━━━━━━━━━━━━━\u001b[0m\u001b[37m━\u001b[0m \u001b[1m0s\u001b[0m 80ms/step - accuracy: 0.9624 - loss: 0.2142\n",
      "Epoch 15: ReduceLROnPlateau reducing learning rate to 4.999999873689376e-05.\n",
      "\u001b[1m938/938\u001b[0m \u001b[32m━━━━━━━━━━━━━━━━━━━━\u001b[0m\u001b[37m\u001b[0m \u001b[1m78s\u001b[0m 83ms/step - accuracy: 0.9624 - loss: 0.2142 - val_accuracy: 0.8934 - val_loss: 0.4564 - learning_rate: 1.0000e-04\n",
      "Epoch 16/30\n",
      "\u001b[1m938/938\u001b[0m \u001b[32m━━━━━━━━━━━━━━━━━━━━\u001b[0m\u001b[37m\u001b[0m \u001b[1m77s\u001b[0m 82ms/step - accuracy: 0.9750 - loss: 0.1746 - val_accuracy: 0.8986 - val_loss: 0.4793 - learning_rate: 5.0000e-05\n",
      "Epoch 17/30\n",
      "\u001b[1m938/938\u001b[0m \u001b[32m━━━━━━━━━━━━━━━━━━━━\u001b[0m\u001b[37m\u001b[0m \u001b[1m77s\u001b[0m 82ms/step - accuracy: 0.9789 - loss: 0.1545 - val_accuracy: 0.9014 - val_loss: 0.4710 - learning_rate: 5.0000e-05\n",
      "Epoch 18/30\n",
      "\u001b[1m938/938\u001b[0m \u001b[32m━━━━━━━━━━━━━━━━━━━━\u001b[0m\u001b[37m\u001b[0m \u001b[1m0s\u001b[0m 79ms/step - accuracy: 0.9813 - loss: 0.1417\n",
      "Epoch 18: ReduceLROnPlateau reducing learning rate to 2.499999936844688e-05.\n",
      "\u001b[1m938/938\u001b[0m \u001b[32m━━━━━━━━━━━━━━━━━━━━\u001b[0m\u001b[37m\u001b[0m \u001b[1m77s\u001b[0m 82ms/step - accuracy: 0.9813 - loss: 0.1417 - val_accuracy: 0.8987 - val_loss: 0.5010 - learning_rate: 5.0000e-05\n",
      "Epoch 19/30\n",
      "\u001b[1m938/938\u001b[0m \u001b[32m━━━━━━━━━━━━━━━━━━━━\u001b[0m\u001b[37m\u001b[0m \u001b[1m75s\u001b[0m 80ms/step - accuracy: 0.9860 - loss: 0.1257 - val_accuracy: 0.9012 - val_loss: 0.5135 - learning_rate: 2.5000e-05\n",
      "Epoch 20/30\n",
      "\u001b[1m938/938\u001b[0m \u001b[32m━━━━━━━━━━━━━━━━━━━━\u001b[0m\u001b[37m\u001b[0m \u001b[1m74s\u001b[0m 79ms/step - accuracy: 0.9891 - loss: 0.1136 - val_accuracy: 0.9014 - val_loss: 0.5277 - learning_rate: 2.5000e-05\n"
     ]
    }
   ],
   "source": [
    "# Create the model\n",
    "cnn_model = create_better_cnn_model()\n",
    "\n",
    "# Train the model with data augmentation\n",
    "history = cnn_model.fit(train_images, train_labels,\n",
    "                        validation_data=(test_images, test_labels),\n",
    "                        epochs=30,\n",
    "                        batch_size=64,\n",
    "                        callbacks=[early_stopping, reduce_lr])\n"
   ]
  },
  {
   "cell_type": "code",
   "execution_count": 156,
   "metadata": {},
   "outputs": [
    {
     "name": "stdout",
     "output_type": "stream",
     "text": [
      "\u001b[1m313/313\u001b[0m \u001b[32m━━━━━━━━━━━━━━━━━━━━\u001b[0m\u001b[37m\u001b[0m \u001b[1m3s\u001b[0m 11ms/step - accuracy: 0.8925 - loss: 0.4743\n",
      "Test accuracy: 0.8934000134468079\n"
     ]
    },
    {
     "data": {
      "image/png": "[encoded data removed]",
      "text/plain": [
       "<Figure size 640x480 with 1 Axes>"
      ]
     },
     "metadata": {},
     "output_type": "display_data"
    }
   ],
   "source": [
    "# Evaluate the model\n",
    "test_loss, test_acc = cnn_model.evaluate(test_images, test_labels)\n",
    "print(f\"Test accuracy: {test_acc}\")\n",
    "\n",
    "# Plot accuracy\n",
    "plt.plot(history.history['accuracy'], label='train accuracy')\n",
    "plt.plot(history.history['val_accuracy'], label='val accuracy')\n",
    "plt.xlabel('Epoch')\n",
    "plt.ylabel('Accuracy')\n",
    "plt.legend(loc='lower right')\n",
    "plt.show()\n"
   ]
  },
  {
   "cell_type": "code",
   "execution_count": 159,
   "metadata": {},
   "outputs": [],
   "source": [
    "# Improved VGG16 Base Model with Fine-Tuning\n",
    "import tensorflow as tf\n",
    "from tensorflow.keras.applications import VGG16\n",
    "from tensorflow.keras.models import Sequential\n",
    "from tensorflow.keras.layers import Dense, Flatten, Dropout\n",
    "from tensorflow.keras.optimizers import Adam\n",
    "from tensorflow.keras.preprocessing.image import ImageDataGenerator\n",
    "from tensorflow.keras.datasets import fashion_mnist\n",
    "from tensorflow.keras.utils import to_categorical\n",
    "from tensorflow.keras.callbacks import ReduceLROnPlateau\n",
    "import matplotlib.pyplot as plt\n"
   ]
  },
  {
   "cell_type": "code",
   "execution_count": 160,
   "metadata": {},
   "outputs": [
    {
     "name": "stdout",
     "output_type": "stream",
     "text": [
      "(60000, 48, 48, 3)\n",
      "(10000, 48, 48, 3)\n"
     ]
    }
   ],
   "source": [
    "# Load dataset\n",
    "(train_images, train_labels), (test_images, test_labels) = fashion_mnist.load_data()\n",
    "\n",
    "# Normalize the data to [0, 1]\n",
    "train_images = train_images / 255.0\n",
    "test_images = test_images / 255.0\n",
    "\n",
    "# Add a channel dimension (grayscale channel size 1)\n",
    "train_images = train_images.reshape(-1, 28, 28, 1)\n",
    "test_images = test_images.reshape(-1, 28, 28, 1)\n",
    "\n",
    "# Resize images to 48x48 to fit VGG16 input size\n",
    "train_images_resized = tf.image.resize(train_images, [48, 48])\n",
    "test_images_resized = tf.image.resize(test_images, [48, 48])\n",
    "\n",
    "# Convert grayscale (single channel) to RGB (3 channels)\n",
    "train_images_rgb = tf.image.grayscale_to_rgb(train_images_resized)\n",
    "test_images_rgb = tf.image.grayscale_to_rgb(test_images_resized)\n",
    "\n",
    "# One-hot encode labels\n",
    "train_labels = to_categorical(train_labels)\n",
    "test_labels = to_categorical(test_labels)\n",
    "\n",
    "# Check the shapes to verify\n",
    "print(train_images_rgb.shape) \n",
    "print(test_images_rgb.shape)  \n"
   ]
  },
  {
   "cell_type": "code",
   "execution_count": 161,
   "metadata": {},
   "outputs": [],
   "source": [
    "# Load VGG16 without the top layers\n",
    "vgg_base = VGG16(include_top=False, input_shape=(48, 48, 3), weights='imagenet')\n",
    "\n",
    "# Unfreeze the last few layers for fine-tuning\n",
    "for layer in vgg_base.layers[:-4]:\n",
    "    layer.trainable = False\n",
    "\n",
    "# Build the model\n",
    "model = Sequential([\n",
    "    vgg_base,\n",
    "    Flatten(),\n",
    "    Dense(256, activation='relu'),\n",
    "    Dropout(0.5),\n",
    "    Dense(128, activation='relu'),\n",
    "    Dropout(0.5),\n",
    "    Dense(10, activation='softmax')\n",
    "])\n"
   ]
  },
  {
   "cell_type": "code",
   "execution_count": 162,
   "metadata": {},
   "outputs": [],
   "source": [
    "# Compile the model with a learning rate scheduler\n",
    "model.compile(optimizer=Adam(learning_rate=0.0005),  # Lower learning rate for fine-tuning\n",
    "              loss='categorical_crossentropy',\n",
    "              metrics=['accuracy'])\n",
    "\n",
    "# Learning rate scheduler to reduce learning rate if accuracy plateaus\n",
    "lr_reduction = ReduceLROnPlateau(monitor='val_loss', patience=3, factor=0.5, verbose=1)\n"
   ]
  },
  {
   "cell_type": "code",
   "execution_count": 163,
   "metadata": {},
   "outputs": [],
   "source": [
    "# Data augmentation\n",
    "datagen = ImageDataGenerator(\n",
    "    rotation_range=15,\n",
    "    width_shift_range=0.1,\n",
    "    height_shift_range=0.1,\n",
    "    horizontal_flip=True\n",
    ")\n",
    "\n",
    "# Fit the datagen on training data\n",
    "datagen.fit(train_images_rgb)\n"
   ]
  },
  {
   "cell_type": "code",
   "execution_count": 164,
   "metadata": {},
   "outputs": [
    {
     "name": "stdout",
     "output_type": "stream",
     "text": [
      "Epoch 1/30\n",
      "\u001b[1m938/938\u001b[0m \u001b[32m━━━━━━━━━━━━━━━━━━━━\u001b[0m\u001b[37m\u001b[0m \u001b[1m693s\u001b[0m 733ms/step - accuracy: 0.6060 - loss: 1.0905 - val_accuracy: 0.8615 - val_loss: 0.3918 - learning_rate: 5.0000e-04\n",
      "Epoch 2/30\n",
      "\u001b[1m938/938\u001b[0m \u001b[32m━━━━━━━━━━━━━━━━━━━━\u001b[0m\u001b[37m\u001b[0m \u001b[1m687s\u001b[0m 732ms/step - accuracy: 0.8578 - loss: 0.4217 - val_accuracy: 0.8742 - val_loss: 0.3736 - learning_rate: 5.0000e-04\n",
      "Epoch 3/30\n",
      "\u001b[1m938/938\u001b[0m \u001b[32m━━━━━━━━━━━━━━━━━━━━\u001b[0m\u001b[37m\u001b[0m \u001b[1m691s\u001b[0m 736ms/step - accuracy: 0.8746 - loss: 0.3641 - val_accuracy: 0.8896 - val_loss: 0.3120 - learning_rate: 5.0000e-04\n",
      "Epoch 4/30\n",
      "\u001b[1m938/938\u001b[0m \u001b[32m━━━━━━━━━━━━━━━━━━━━\u001b[0m\u001b[37m\u001b[0m \u001b[1m674s\u001b[0m 718ms/step - accuracy: 0.8873 - loss: 0.3251 - val_accuracy: 0.8842 - val_loss: 0.3249 - learning_rate: 5.0000e-04\n",
      "Epoch 5/30\n",
      "\u001b[1m938/938\u001b[0m \u001b[32m━━━━━━━━━━━━━━━━━━━━\u001b[0m\u001b[37m\u001b[0m \u001b[1m666s\u001b[0m 709ms/step - accuracy: 0.8953 - loss: 0.3043 - val_accuracy: 0.9056 - val_loss: 0.2621 - learning_rate: 5.0000e-04\n",
      "Epoch 6/30\n",
      "\u001b[1m938/938\u001b[0m \u001b[32m━━━━━━━━━━━━━━━━━━━━\u001b[0m\u001b[37m\u001b[0m \u001b[1m658s\u001b[0m 701ms/step - accuracy: 0.9016 - loss: 0.2879 - val_accuracy: 0.8978 - val_loss: 0.2816 - learning_rate: 5.0000e-04\n",
      "Epoch 7/30\n",
      "\u001b[1m938/938\u001b[0m \u001b[32m━━━━━━━━━━━━━━━━━━━━\u001b[0m\u001b[37m\u001b[0m \u001b[1m677s\u001b[0m 721ms/step - accuracy: 0.8997 - loss: 0.2849 - val_accuracy: 0.9101 - val_loss: 0.2544 - learning_rate: 5.0000e-04\n",
      "Epoch 8/30\n",
      "\u001b[1m938/938\u001b[0m \u001b[32m━━━━━━━━━━━━━━━━━━━━\u001b[0m\u001b[37m\u001b[0m \u001b[1m687s\u001b[0m 732ms/step - accuracy: 0.9056 - loss: 0.2689 - val_accuracy: 0.9069 - val_loss: 0.2847 - learning_rate: 5.0000e-04\n",
      "Epoch 9/30\n",
      "\u001b[1m938/938\u001b[0m \u001b[32m━━━━━━━━━━━━━━━━━━━━\u001b[0m\u001b[37m\u001b[0m \u001b[1m688s\u001b[0m 733ms/step - accuracy: 0.9100 - loss: 0.2616 - val_accuracy: 0.9091 - val_loss: 0.2579 - learning_rate: 5.0000e-04\n",
      "Epoch 10/30\n",
      "\u001b[1m938/938\u001b[0m \u001b[32m━━━━━━━━━━━━━━━━━━━━\u001b[0m\u001b[37m\u001b[0m \u001b[1m0s\u001b[0m 659ms/step - accuracy: 0.9088 - loss: 0.2617\n",
      "Epoch 10: ReduceLROnPlateau reducing learning rate to 0.0002500000118743628.\n",
      "\u001b[1m938/938\u001b[0m \u001b[32m━━━━━━━━━━━━━━━━━━━━\u001b[0m\u001b[37m\u001b[0m \u001b[1m691s\u001b[0m 736ms/step - accuracy: 0.9088 - loss: 0.2617 - val_accuracy: 0.9015 - val_loss: 0.2914 - learning_rate: 5.0000e-04\n",
      "Epoch 11/30\n",
      "\u001b[1m938/938\u001b[0m \u001b[32m━━━━━━━━━━━━━━━━━━━━\u001b[0m\u001b[37m\u001b[0m \u001b[1m685s\u001b[0m 730ms/step - accuracy: 0.9156 - loss: 0.2387 - val_accuracy: 0.9146 - val_loss: 0.2457 - learning_rate: 2.5000e-04\n",
      "Epoch 12/30\n",
      "\u001b[1m938/938\u001b[0m \u001b[32m━━━━━━━━━━━━━━━━━━━━\u001b[0m\u001b[37m\u001b[0m \u001b[1m692s\u001b[0m 737ms/step - accuracy: 0.9238 - loss: 0.2179 - val_accuracy: 0.9167 - val_loss: 0.2465 - learning_rate: 2.5000e-04\n",
      "Epoch 13/30\n",
      "\u001b[1m938/938\u001b[0m \u001b[32m━━━━━━━━━━━━━━━━━━━━\u001b[0m\u001b[37m\u001b[0m \u001b[1m686s\u001b[0m 731ms/step - accuracy: 0.9233 - loss: 0.2158 - val_accuracy: 0.9182 - val_loss: 0.2472 - learning_rate: 2.5000e-04\n",
      "Epoch 14/30\n",
      "\u001b[1m938/938\u001b[0m \u001b[32m━━━━━━━━━━━━━━━━━━━━\u001b[0m\u001b[37m\u001b[0m \u001b[1m0s\u001b[0m 658ms/step - accuracy: 0.9247 - loss: 0.2090\n",
      "Epoch 14: ReduceLROnPlateau reducing learning rate to 0.0001250000059371814.\n",
      "\u001b[1m938/938\u001b[0m \u001b[32m━━━━━━━━━━━━━━━━━━━━\u001b[0m\u001b[37m\u001b[0m \u001b[1m687s\u001b[0m 732ms/step - accuracy: 0.9247 - loss: 0.2090 - val_accuracy: 0.9155 - val_loss: 0.2588 - learning_rate: 2.5000e-04\n",
      "Epoch 15/30\n",
      "\u001b[1m938/938\u001b[0m \u001b[32m━━━━━━━━━━━━━━━━━━━━\u001b[0m\u001b[37m\u001b[0m \u001b[1m685s\u001b[0m 730ms/step - accuracy: 0.9314 - loss: 0.1920 - val_accuracy: 0.9162 - val_loss: 0.2384 - learning_rate: 1.2500e-04\n",
      "Epoch 16/30\n",
      "\u001b[1m938/938\u001b[0m \u001b[32m━━━━━━━━━━━━━━━━━━━━\u001b[0m\u001b[37m\u001b[0m \u001b[1m688s\u001b[0m 733ms/step - accuracy: 0.9340 - loss: 0.1851 - val_accuracy: 0.9207 - val_loss: 0.2390 - learning_rate: 1.2500e-04\n",
      "Epoch 17/30\n",
      "\u001b[1m938/938\u001b[0m \u001b[32m━━━━━━━━━━━━━━━━━━━━\u001b[0m\u001b[37m\u001b[0m \u001b[1m677s\u001b[0m 721ms/step - accuracy: 0.9337 - loss: 0.1815 - val_accuracy: 0.9207 - val_loss: 0.2427 - learning_rate: 1.2500e-04\n",
      "Epoch 18/30\n",
      "\u001b[1m938/938\u001b[0m \u001b[32m━━━━━━━━━━━━━━━━━━━━\u001b[0m\u001b[37m\u001b[0m \u001b[1m0s\u001b[0m 655ms/step - accuracy: 0.9352 - loss: 0.1772\n",
      "Epoch 18: ReduceLROnPlateau reducing learning rate to 6.25000029685907e-05.\n",
      "\u001b[1m938/938\u001b[0m \u001b[32m━━━━━━━━━━━━━━━━━━━━\u001b[0m\u001b[37m\u001b[0m \u001b[1m696s\u001b[0m 742ms/step - accuracy: 0.9352 - loss: 0.1772 - val_accuracy: 0.9192 - val_loss: 0.2400 - learning_rate: 1.2500e-04\n",
      "Epoch 19/30\n",
      "\u001b[1m938/938\u001b[0m \u001b[32m━━━━━━━━━━━━━━━━━━━━\u001b[0m\u001b[37m\u001b[0m \u001b[1m671s\u001b[0m 714ms/step - accuracy: 0.9374 - loss: 0.1713 - val_accuracy: 0.9222 - val_loss: 0.2481 - learning_rate: 6.2500e-05\n",
      "Epoch 20/30\n",
      "\u001b[1m938/938\u001b[0m \u001b[32m━━━━━━━━━━━━━━━━━━━━\u001b[0m\u001b[37m\u001b[0m \u001b[1m665s\u001b[0m 708ms/step - accuracy: 0.9403 - loss: 0.1637 - val_accuracy: 0.9211 - val_loss: 0.2452 - learning_rate: 6.2500e-05\n",
      "Epoch 21/30\n",
      "\u001b[1m938/938\u001b[0m \u001b[32m━━━━━━━━━━━━━━━━━━━━\u001b[0m\u001b[37m\u001b[0m \u001b[1m0s\u001b[0m 630ms/step - accuracy: 0.9399 - loss: 0.1612\n",
      "Epoch 21: ReduceLROnPlateau reducing learning rate to 3.125000148429535e-05.\n",
      "\u001b[1m938/938\u001b[0m \u001b[32m━━━━━━━━━━━━━━━━━━━━\u001b[0m\u001b[37m\u001b[0m \u001b[1m660s\u001b[0m 703ms/step - accuracy: 0.9399 - loss: 0.1612 - val_accuracy: 0.9205 - val_loss: 0.2526 - learning_rate: 6.2500e-05\n",
      "Epoch 22/30\n",
      "\u001b[1m938/938\u001b[0m \u001b[32m━━━━━━━━━━━━━━━━━━━━\u001b[0m\u001b[37m\u001b[0m \u001b[1m669s\u001b[0m 713ms/step - accuracy: 0.9444 - loss: 0.1535 - val_accuracy: 0.9213 - val_loss: 0.2484 - learning_rate: 3.1250e-05\n",
      "Epoch 23/30\n",
      "\u001b[1m938/938\u001b[0m \u001b[32m━━━━━━━━━━━━━━━━━━━━\u001b[0m\u001b[37m\u001b[0m \u001b[1m670s\u001b[0m 714ms/step - accuracy: 0.9439 - loss: 0.1555 - val_accuracy: 0.9222 - val_loss: 0.2537 - learning_rate: 3.1250e-05\n",
      "Epoch 24/30\n",
      "\u001b[1m938/938\u001b[0m \u001b[32m━━━━━━━━━━━━━━━━━━━━\u001b[0m\u001b[37m\u001b[0m \u001b[1m0s\u001b[0m 640ms/step - accuracy: 0.9447 - loss: 0.1526\n",
      "Epoch 24: ReduceLROnPlateau reducing learning rate to 1.5625000742147677e-05.\n",
      "\u001b[1m938/938\u001b[0m \u001b[32m━━━━━━━━━━━━━━━━━━━━\u001b[0m\u001b[37m\u001b[0m \u001b[1m669s\u001b[0m 713ms/step - accuracy: 0.9447 - loss: 0.1526 - val_accuracy: 0.9211 - val_loss: 0.2487 - learning_rate: 3.1250e-05\n",
      "Epoch 25/30\n",
      "\u001b[1m938/938\u001b[0m \u001b[32m━━━━━━━━━━━━━━━━━━━━\u001b[0m\u001b[37m\u001b[0m \u001b[1m674s\u001b[0m 718ms/step - accuracy: 0.9451 - loss: 0.1482 - val_accuracy: 0.9217 - val_loss: 0.2543 - learning_rate: 1.5625e-05\n",
      "Epoch 26/30\n",
      "\u001b[1m938/938\u001b[0m \u001b[32m━━━━━━━━━━━━━━━━━━━━\u001b[0m\u001b[37m\u001b[0m \u001b[1m672s\u001b[0m 716ms/step - accuracy: 0.9472 - loss: 0.1464 - val_accuracy: 0.9219 - val_loss: 0.2533 - learning_rate: 1.5625e-05\n",
      "Epoch 27/30\n",
      "\u001b[1m938/938\u001b[0m \u001b[32m━━━━━━━━━━━━━━━━━━━━\u001b[0m\u001b[37m\u001b[0m \u001b[1m0s\u001b[0m 641ms/step - accuracy: 0.9449 - loss: 0.1478\n",
      "Epoch 27: ReduceLROnPlateau reducing learning rate to 7.812500371073838e-06.\n",
      "\u001b[1m938/938\u001b[0m \u001b[32m━━━━━━━━━━━━━━━━━━━━\u001b[0m\u001b[37m\u001b[0m \u001b[1m670s\u001b[0m 714ms/step - accuracy: 0.9449 - loss: 0.1478 - val_accuracy: 0.9211 - val_loss: 0.2557 - learning_rate: 1.5625e-05\n",
      "Epoch 28/30\n",
      "\u001b[1m938/938\u001b[0m \u001b[32m━━━━━━━━━━━━━━━━━━━━\u001b[0m\u001b[37m\u001b[0m \u001b[1m677s\u001b[0m 721ms/step - accuracy: 0.9458 - loss: 0.1502 - val_accuracy: 0.9231 - val_loss: 0.2550 - learning_rate: 7.8125e-06\n",
      "Epoch 29/30\n",
      "\u001b[1m938/938\u001b[0m \u001b[32m━━━━━━━━━━━━━━━━━━━━\u001b[0m\u001b[37m\u001b[0m \u001b[1m677s\u001b[0m 721ms/step - accuracy: 0.9467 - loss: 0.1421 - val_accuracy: 0.9219 - val_loss: 0.2564 - learning_rate: 7.8125e-06\n",
      "Epoch 30/30\n",
      "\u001b[1m938/938\u001b[0m \u001b[32m━━━━━━━━━━━━━━━━━━━━\u001b[0m\u001b[37m\u001b[0m \u001b[1m0s\u001b[0m 653ms/step - accuracy: 0.9465 - loss: 0.1462\n",
      "Epoch 30: ReduceLROnPlateau reducing learning rate to 3.906250185536919e-06.\n",
      "\u001b[1m938/938\u001b[0m \u001b[32m━━━━━━━━━━━━━━━━━━━━\u001b[0m\u001b[37m\u001b[0m \u001b[1m680s\u001b[0m 725ms/step - accuracy: 0.9465 - loss: 0.1462 - val_accuracy: 0.9224 - val_loss: 0.2572 - learning_rate: 7.8125e-06\n"
     ]
    }
   ],
   "source": [
    "# Train the model\n",
    "history = model.fit(datagen.flow(train_images_rgb, train_labels, batch_size=64),\n",
    "                    validation_data=(test_images_rgb, test_labels),\n",
    "                    epochs=30,\n",
    "                    callbacks=[lr_reduction])\n"
   ]
  },
  {
   "cell_type": "code",
   "execution_count": 165,
   "metadata": {},
   "outputs": [
    {
     "name": "stdout",
     "output_type": "stream",
     "text": [
      "\u001b[1m313/313\u001b[0m \u001b[32m━━━━━━━━━━━━━━━━━━━━\u001b[0m\u001b[37m\u001b[0m \u001b[1m74s\u001b[0m 236ms/step - accuracy: 0.9196 - loss: 0.2644\n",
      "Test accuracy with VGG16: 0.9223999977111816\n"
     ]
    },
    {
     "data": {
      "image/png": "[encoded data removed]",
      "text/plain": [
       "<Figure size 640x480 with 1 Axes>"
      ]
     },
     "metadata": {},
     "output_type": "display_data"
    }
   ],
   "source": [
    "# Evaluate the model\n",
    "test_loss, test_acc = model.evaluate(test_images_rgb, test_labels)\n",
    "print(f\"Test accuracy with VGG16: {test_acc}\")\n",
    "\n",
    "# Plot accuracy\n",
    "plt.plot(history.history['accuracy'], label='train accuracy')\n",
    "plt.plot(history.history['val_accuracy'], label='val accuracy')\n",
    "plt.xlabel('Epoch')\n",
    "plt.ylabel('Accuracy')\n",
    "plt.legend(loc='lower right')\n",
    "plt.show()\n"
   ]
  },
  {
   "cell_type": "code",
   "execution_count": null,
   "metadata": {},
   "outputs": [],
   "source": []
  }
 ],
 "metadata": {
  "kernelspec": {
   "display_name": ".venv",
   "language": "python",
   "name": "python3"
  },
  "language_info": {
   "codemirror_mode": {
    "name": "ipython",
    "version": 3
   },
   "file_extension": ".py",
   "mimetype": "text/x-python",
   "name": "python",
   "nbconvert_exporter": "python",
   "pygments_lexer": "ipython3",
   "version": "3.11.7"
  }
 },
 "nbformat": 4,
 "nbformat_minor": 2
}
